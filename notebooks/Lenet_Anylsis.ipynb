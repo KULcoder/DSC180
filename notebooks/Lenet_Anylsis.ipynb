{
 "cells": [
  {
   "cell_type": "code",
   "execution_count": 36,
   "id": "e5c7af0b",
   "metadata": {},
   "outputs": [],
   "source": [
    "import os\n",
    "import json\n",
    "import sys\n",
    "import matplotlib.pyplot as plt\n",
    "import numpy as np\n",
    "from math import sqrt\n",
    "import torch\n",
    "\n",
    "# Append project to path\n",
    "root_dir = os.path.join(os.getcwd(), \"..\")\n",
    "sys.path.append(root_dir)"
   ]
  },
  {
   "cell_type": "code",
   "execution_count": 2,
   "id": "5f9704f3",
   "metadata": {},
   "outputs": [],
   "source": [
    "path = \"/Users/lichenghu/desktop/DSC180A-Project1/config/LeNet_config.json\"\n",
    "with open(path) as json_file:\n",
    "    config = json.load(json_file)\n",
    "# config['data']['path'] = \"../data\""
   ]
  },
  {
   "cell_type": "code",
   "execution_count": 3,
   "id": "8ad45187",
   "metadata": {},
   "outputs": [],
   "source": [
    "config['model']['save_path']=\"/Users/lichenghu/desktop/DSC180A-Project1/models/LeNet.pth\""
   ]
  },
  {
   "cell_type": "code",
   "execution_count": 4,
   "id": "51ef0f98",
   "metadata": {},
   "outputs": [
    {
     "name": "stdout",
     "output_type": "stream",
     "text": [
      "Creating model...\n",
      "Model LeNet created\n"
     ]
    }
   ],
   "source": [
    "from src.model.get_model import get_model\n",
    "LeNet_model = get_model(config)"
   ]
  },
  {
   "cell_type": "code",
   "execution_count": 5,
   "id": "89a9e62c",
   "metadata": {},
   "outputs": [
    {
     "name": "stdout",
     "output_type": "stream",
     "text": [
      "Model read successfully from /Users/lichenghu/desktop/DSC180A-Project1/models/LeNet.pth\n"
     ]
    }
   ],
   "source": [
    "from src.model.model_files import read_model\n",
    "read_model(LeNet_model, config)"
   ]
  },
  {
   "cell_type": "code",
   "execution_count": 6,
   "id": "ded4f8c0",
   "metadata": {},
   "outputs": [
    {
     "data": {
      "text/plain": [
       "LeNet(\n",
       "  (conv1): Conv2d(1, 6, kernel_size=(5, 5), stride=(1, 1), padding=(2, 2))\n",
       "  (conv2): Conv2d(6, 16, kernel_size=(5, 5), stride=(1, 1))\n",
       "  (fc1): Linear(in_features=400, out_features=120, bias=True)\n",
       "  (fc2): Linear(in_features=120, out_features=84, bias=True)\n",
       "  (fc3): Linear(in_features=84, out_features=10, bias=True)\n",
       ")"
      ]
     },
     "execution_count": 6,
     "metadata": {},
     "output_type": "execute_result"
    }
   ],
   "source": [
    "LeNet_model"
   ]
  },
  {
   "cell_type": "code",
   "execution_count": 7,
   "id": "479ba745",
   "metadata": {},
   "outputs": [
    {
     "data": {
      "text/plain": [
       "torch.Size([6, 1, 5, 5])"
      ]
     },
     "execution_count": 7,
     "metadata": {},
     "output_type": "execute_result"
    }
   ],
   "source": [
    "LeNet_model.conv1.weight.data.shape"
   ]
  },
  {
   "cell_type": "code",
   "execution_count": 12,
   "id": "755ef5a9",
   "metadata": {},
   "outputs": [
    {
     "data": {
      "text/plain": [
       "tensor([[[[ 1.6808e-01,  5.2668e-03, -1.6404e-01, -3.0825e-03,  7.7227e-02],\n",
       "          [ 2.9394e-01,  6.5132e-02, -4.2218e-01, -3.1320e-01, -6.5769e-02],\n",
       "          [ 9.0404e-02, -4.8460e-02,  1.0503e-01,  2.9693e-03,  1.5778e-01],\n",
       "          [-6.2695e-02,  2.7349e-01,  3.0933e-01,  1.1550e-01,  8.2548e-02],\n",
       "          [ 3.0046e-03,  1.0804e-02, -1.4074e-01, -4.9209e-02, -5.3913e-02]]],\n",
       "\n",
       "\n",
       "        [[[-1.5122e-01, -1.9201e-01, -4.8928e-01,  1.5123e-02,  9.5619e-02],\n",
       "          [ 8.6676e-02,  1.6892e-01, -3.0196e-01,  1.9773e-02,  7.4948e-05],\n",
       "          [ 1.3972e-02,  5.0549e-02, -7.7697e-02,  1.0499e-02,  1.0217e-02],\n",
       "          [ 5.2021e-02,  1.3500e-01, -1.8694e-02,  1.8845e-01, -1.2761e-01],\n",
       "          [ 2.9576e-01,  3.4751e-01,  2.1208e-01,  3.1659e-01,  2.9229e-02]]],\n",
       "\n",
       "\n",
       "        [[[-1.9135e-03,  1.8109e-01,  9.9452e-02,  1.4594e-01, -8.7572e-02],\n",
       "          [ 3.3110e-01,  2.7847e-01, -1.0971e-01,  3.2838e-03,  9.6290e-02],\n",
       "          [-1.4695e-02,  2.2463e-01,  2.3842e-01, -1.2308e-01, -2.4289e-01],\n",
       "          [-1.1695e-01, -1.6594e-01,  3.1799e-01,  1.9812e-01, -1.1006e-01],\n",
       "          [-4.0723e-01, -1.3658e-02,  4.5889e-03,  1.1779e-01, -7.3235e-02]]],\n",
       "\n",
       "\n",
       "        [[[-1.4001e-01, -1.2925e-01,  4.6966e-02,  2.4903e-01,  9.0162e-02],\n",
       "          [-8.5587e-02, -2.7866e-01,  1.3991e-01,  2.5518e-02,  2.5917e-01],\n",
       "          [-2.7896e-01, -4.4847e-02,  1.9640e-01,  3.1810e-01,  2.8202e-01],\n",
       "          [-1.6182e-01,  1.5192e-01,  1.8715e-01,  2.5765e-01,  1.2544e-01],\n",
       "          [ 6.1812e-02,  3.0593e-01,  3.1029e-01,  1.8686e-01, -9.1061e-02]]],\n",
       "\n",
       "\n",
       "        [[[ 3.4796e-02,  1.7898e-01,  2.8227e-01,  2.5224e-01,  1.2981e-01],\n",
       "          [-1.8084e-01, -3.4950e-01, -3.1149e-01, -9.5280e-02,  5.1175e-02],\n",
       "          [-2.1396e-01, -2.6766e-01, -3.4911e-01, -3.4939e-01, -1.9900e-01],\n",
       "          [ 2.0596e-01,  8.5093e-02, -2.0879e-02,  8.3528e-02, -8.6410e-02],\n",
       "          [ 3.2895e-01,  2.5196e-01,  3.6210e-01,  8.1291e-02,  1.2514e-01]]],\n",
       "\n",
       "\n",
       "        [[[ 1.4180e-01, -8.7480e-02, -1.6414e-01, -3.8729e-01, -3.9186e-02],\n",
       "          [ 7.1279e-02, -2.7023e-01, -2.2621e-01, -2.4593e-01,  3.0642e-01],\n",
       "          [-1.6149e-01, -2.0336e-01, -3.2104e-01,  4.5667e-02,  3.3385e-01],\n",
       "          [-1.3117e-01, -2.5546e-01,  7.3675e-03,  1.4932e-01,  1.3475e-01],\n",
       "          [-1.8206e-01, -8.9959e-02, -1.3153e-01,  1.5336e-01,  2.0288e-01]]]])"
      ]
     },
     "execution_count": 12,
     "metadata": {},
     "output_type": "execute_result"
    }
   ],
   "source": [
    "LeNet_model.conv1.weight.data"
   ]
  },
  {
   "cell_type": "markdown",
   "id": "50e635bd",
   "metadata": {},
   "source": [
    "# Flatten"
   ]
  },
  {
   "cell_type": "code",
   "execution_count": 112,
   "id": "72c2ea7c",
   "metadata": {},
   "outputs": [],
   "source": [
    "c_out, c_in, p, q = LeNet_model.conv1.weight.data.shape\n",
    "W = LeNet_model.conv1.weight.data.reshape(c_out, -1)"
   ]
  },
  {
   "cell_type": "code",
   "execution_count": 113,
   "id": "e95820c5",
   "metadata": {},
   "outputs": [
    {
     "data": {
      "text/plain": [
       "torch.Size([6, 25])"
      ]
     },
     "execution_count": 113,
     "metadata": {},
     "output_type": "execute_result"
    }
   ],
   "source": [
    "W.shape"
   ]
  },
  {
   "cell_type": "code",
   "execution_count": 114,
   "id": "07a4bd1a",
   "metadata": {},
   "outputs": [
    {
     "data": {
      "text/plain": [
       "tensor([[ 1.6808e-01,  5.2668e-03, -1.6404e-01, -3.0825e-03,  7.7227e-02,\n",
       "          2.9394e-01,  6.5132e-02, -4.2218e-01, -3.1320e-01, -6.5769e-02,\n",
       "          9.0404e-02, -4.8460e-02,  1.0503e-01,  2.9693e-03,  1.5778e-01,\n",
       "         -6.2695e-02,  2.7349e-01,  3.0933e-01,  1.1550e-01,  8.2548e-02,\n",
       "          3.0046e-03,  1.0804e-02, -1.4074e-01, -4.9209e-02, -5.3913e-02],\n",
       "        [-1.5122e-01, -1.9201e-01, -4.8928e-01,  1.5123e-02,  9.5619e-02,\n",
       "          8.6676e-02,  1.6892e-01, -3.0196e-01,  1.9773e-02,  7.4948e-05,\n",
       "          1.3972e-02,  5.0549e-02, -7.7697e-02,  1.0499e-02,  1.0217e-02,\n",
       "          5.2021e-02,  1.3500e-01, -1.8694e-02,  1.8845e-01, -1.2761e-01,\n",
       "          2.9576e-01,  3.4751e-01,  2.1208e-01,  3.1659e-01,  2.9229e-02],\n",
       "        [-1.9135e-03,  1.8109e-01,  9.9452e-02,  1.4594e-01, -8.7572e-02,\n",
       "          3.3110e-01,  2.7847e-01, -1.0971e-01,  3.2838e-03,  9.6290e-02,\n",
       "         -1.4695e-02,  2.2463e-01,  2.3842e-01, -1.2308e-01, -2.4289e-01,\n",
       "         -1.1695e-01, -1.6594e-01,  3.1799e-01,  1.9812e-01, -1.1006e-01,\n",
       "         -4.0723e-01, -1.3658e-02,  4.5889e-03,  1.1779e-01, -7.3235e-02],\n",
       "        [-1.4001e-01, -1.2925e-01,  4.6966e-02,  2.4903e-01,  9.0162e-02,\n",
       "         -8.5587e-02, -2.7866e-01,  1.3991e-01,  2.5518e-02,  2.5917e-01,\n",
       "         -2.7896e-01, -4.4847e-02,  1.9640e-01,  3.1810e-01,  2.8202e-01,\n",
       "         -1.6182e-01,  1.5192e-01,  1.8715e-01,  2.5765e-01,  1.2544e-01,\n",
       "          6.1812e-02,  3.0593e-01,  3.1029e-01,  1.8686e-01, -9.1061e-02],\n",
       "        [ 3.4796e-02,  1.7898e-01,  2.8227e-01,  2.5224e-01,  1.2981e-01,\n",
       "         -1.8084e-01, -3.4950e-01, -3.1149e-01, -9.5280e-02,  5.1175e-02,\n",
       "         -2.1396e-01, -2.6766e-01, -3.4911e-01, -3.4939e-01, -1.9900e-01,\n",
       "          2.0596e-01,  8.5093e-02, -2.0879e-02,  8.3528e-02, -8.6410e-02,\n",
       "          3.2895e-01,  2.5196e-01,  3.6210e-01,  8.1291e-02,  1.2514e-01],\n",
       "        [ 1.4180e-01, -8.7480e-02, -1.6414e-01, -3.8729e-01, -3.9186e-02,\n",
       "          7.1279e-02, -2.7023e-01, -2.2621e-01, -2.4593e-01,  3.0642e-01,\n",
       "         -1.6149e-01, -2.0336e-01, -3.2104e-01,  4.5667e-02,  3.3385e-01,\n",
       "         -1.3117e-01, -2.5546e-01,  7.3675e-03,  1.4932e-01,  1.3475e-01,\n",
       "         -1.8206e-01, -8.9959e-02, -1.3153e-01,  1.5336e-01,  2.0288e-01]])"
      ]
     },
     "execution_count": 114,
     "metadata": {},
     "output_type": "execute_result"
    }
   ],
   "source": [
    "W"
   ]
  },
  {
   "cell_type": "code",
   "execution_count": 25,
   "id": "39e6e23d",
   "metadata": {},
   "outputs": [
    {
     "data": {
      "text/plain": [
       "<matplotlib.image.AxesImage at 0x177fe98b0>"
      ]
     },
     "execution_count": 25,
     "metadata": {},
     "output_type": "execute_result"
    },
    {
     "data": {
      "image/png": "[encoded data removed]",
      "text/plain": [
       "<Figure size 640x480 with 1 Axes>"
      ]
     },
     "metadata": {},
     "output_type": "display_data"
    }
   ],
   "source": [
    "plt.imshow(M.T@M,cmap=\"gray\")"
   ]
  },
  {
   "cell_type": "markdown",
   "id": "8d7568e3",
   "metadata": {},
   "source": [
    "## Sum of all filter"
   ]
  },
  {
   "cell_type": "code",
   "execution_count": 102,
   "id": "bba8e711",
   "metadata": {},
   "outputs": [
    {
     "data": {
      "text/plain": [
       "tensor([[[[ 1.6808e-01,  5.2668e-03, -1.6404e-01, -3.0825e-03,  7.7227e-02],\n",
       "          [ 2.9394e-01,  6.5132e-02, -4.2218e-01, -3.1320e-01, -6.5769e-02],\n",
       "          [ 9.0404e-02, -4.8460e-02,  1.0503e-01,  2.9693e-03,  1.5778e-01],\n",
       "          [-6.2695e-02,  2.7349e-01,  3.0933e-01,  1.1550e-01,  8.2548e-02],\n",
       "          [ 3.0046e-03,  1.0804e-02, -1.4074e-01, -4.9209e-02, -5.3913e-02]]],\n",
       "\n",
       "\n",
       "        [[[-1.5122e-01, -1.9201e-01, -4.8928e-01,  1.5123e-02,  9.5619e-02],\n",
       "          [ 8.6676e-02,  1.6892e-01, -3.0196e-01,  1.9773e-02,  7.4948e-05],\n",
       "          [ 1.3972e-02,  5.0549e-02, -7.7697e-02,  1.0499e-02,  1.0217e-02],\n",
       "          [ 5.2021e-02,  1.3500e-01, -1.8694e-02,  1.8845e-01, -1.2761e-01],\n",
       "          [ 2.9576e-01,  3.4751e-01,  2.1208e-01,  3.1659e-01,  2.9229e-02]]],\n",
       "\n",
       "\n",
       "        [[[-1.9135e-03,  1.8109e-01,  9.9452e-02,  1.4594e-01, -8.7572e-02],\n",
       "          [ 3.3110e-01,  2.7847e-01, -1.0971e-01,  3.2838e-03,  9.6290e-02],\n",
       "          [-1.4695e-02,  2.2463e-01,  2.3842e-01, -1.2308e-01, -2.4289e-01],\n",
       "          [-1.1695e-01, -1.6594e-01,  3.1799e-01,  1.9812e-01, -1.1006e-01],\n",
       "          [-4.0723e-01, -1.3658e-02,  4.5889e-03,  1.1779e-01, -7.3235e-02]]],\n",
       "\n",
       "\n",
       "        [[[-1.4001e-01, -1.2925e-01,  4.6966e-02,  2.4903e-01,  9.0162e-02],\n",
       "          [-8.5587e-02, -2.7866e-01,  1.3991e-01,  2.5518e-02,  2.5917e-01],\n",
       "          [-2.7896e-01, -4.4847e-02,  1.9640e-01,  3.1810e-01,  2.8202e-01],\n",
       "          [-1.6182e-01,  1.5192e-01,  1.8715e-01,  2.5765e-01,  1.2544e-01],\n",
       "          [ 6.1812e-02,  3.0593e-01,  3.1029e-01,  1.8686e-01, -9.1061e-02]]],\n",
       "\n",
       "\n",
       "        [[[ 3.4796e-02,  1.7898e-01,  2.8227e-01,  2.5224e-01,  1.2981e-01],\n",
       "          [-1.8084e-01, -3.4950e-01, -3.1149e-01, -9.5280e-02,  5.1175e-02],\n",
       "          [-2.1396e-01, -2.6766e-01, -3.4911e-01, -3.4939e-01, -1.9900e-01],\n",
       "          [ 2.0596e-01,  8.5093e-02, -2.0879e-02,  8.3528e-02, -8.6410e-02],\n",
       "          [ 3.2895e-01,  2.5196e-01,  3.6210e-01,  8.1291e-02,  1.2514e-01]]],\n",
       "\n",
       "\n",
       "        [[[ 1.4180e-01, -8.7480e-02, -1.6414e-01, -3.8729e-01, -3.9186e-02],\n",
       "          [ 7.1279e-02, -2.7023e-01, -2.2621e-01, -2.4593e-01,  3.0642e-01],\n",
       "          [-1.6149e-01, -2.0336e-01, -3.2104e-01,  4.5667e-02,  3.3385e-01],\n",
       "          [-1.3117e-01, -2.5546e-01,  7.3675e-03,  1.4932e-01,  1.3475e-01],\n",
       "          [-1.8206e-01, -8.9959e-02, -1.3153e-01,  1.5336e-01,  2.0288e-01]]]])"
      ]
     },
     "execution_count": 102,
     "metadata": {},
     "output_type": "execute_result"
    }
   ],
   "source": [
    "LeNet_model.conv1.weight.data"
   ]
  },
  {
   "cell_type": "code",
   "execution_count": 103,
   "id": "5e573963",
   "metadata": {},
   "outputs": [
    {
     "data": {
      "text/plain": [
       "array([[ 0.16807655,  0.00526678, -0.16404095, -0.00308248,  0.07722723],\n",
       "       [ 0.29394493,  0.06513172, -0.4221787 , -0.31319636, -0.06576869],\n",
       "       [ 0.09040447, -0.04845965,  0.10502929,  0.00296933,  0.15777984],\n",
       "       [-0.06269513,  0.27349198,  0.30933467,  0.11549531,  0.08254819],\n",
       "       [ 0.00300458,  0.01080433, -0.14073928, -0.04920934, -0.05391252]],\n",
       "      dtype=float32)"
      ]
     },
     "execution_count": 103,
     "metadata": {},
     "output_type": "execute_result"
    }
   ],
   "source": [
    "first_layer=np.array(LeNet_model.conv1.weight.data[0][0])\n",
    "first_layer"
   ]
  },
  {
   "cell_type": "code",
   "execution_count": 104,
   "id": "bb9f95df",
   "metadata": {},
   "outputs": [
    {
     "name": "stdout",
     "output_type": "stream",
     "text": [
      "tensor([[-1.5122e-01, -1.9201e-01, -4.8928e-01,  1.5123e-02,  9.5619e-02],\n",
      "        [ 8.6676e-02,  1.6892e-01, -3.0196e-01,  1.9773e-02,  7.4948e-05],\n",
      "        [ 1.3972e-02,  5.0549e-02, -7.7697e-02,  1.0499e-02,  1.0217e-02],\n",
      "        [ 5.2021e-02,  1.3500e-01, -1.8694e-02,  1.8845e-01, -1.2761e-01],\n",
      "        [ 2.9576e-01,  3.4751e-01,  2.1208e-01,  3.1659e-01,  2.9229e-02]])\n",
      "tensor([[-0.0019,  0.1811,  0.0995,  0.1459, -0.0876],\n",
      "        [ 0.3311,  0.2785, -0.1097,  0.0033,  0.0963],\n",
      "        [-0.0147,  0.2246,  0.2384, -0.1231, -0.2429],\n",
      "        [-0.1170, -0.1659,  0.3180,  0.1981, -0.1101],\n",
      "        [-0.4072, -0.0137,  0.0046,  0.1178, -0.0732]])\n",
      "tensor([[-0.1400, -0.1293,  0.0470,  0.2490,  0.0902],\n",
      "        [-0.0856, -0.2787,  0.1399,  0.0255,  0.2592],\n",
      "        [-0.2790, -0.0448,  0.1964,  0.3181,  0.2820],\n",
      "        [-0.1618,  0.1519,  0.1872,  0.2576,  0.1254],\n",
      "        [ 0.0618,  0.3059,  0.3103,  0.1869, -0.0911]])\n",
      "tensor([[ 0.0348,  0.1790,  0.2823,  0.2522,  0.1298],\n",
      "        [-0.1808, -0.3495, -0.3115, -0.0953,  0.0512],\n",
      "        [-0.2140, -0.2677, -0.3491, -0.3494, -0.1990],\n",
      "        [ 0.2060,  0.0851, -0.0209,  0.0835, -0.0864],\n",
      "        [ 0.3289,  0.2520,  0.3621,  0.0813,  0.1251]])\n",
      "tensor([[ 0.1418, -0.0875, -0.1641, -0.3873, -0.0392],\n",
      "        [ 0.0713, -0.2702, -0.2262, -0.2459,  0.3064],\n",
      "        [-0.1615, -0.2034, -0.3210,  0.0457,  0.3338],\n",
      "        [-0.1312, -0.2555,  0.0074,  0.1493,  0.1348],\n",
      "        [-0.1821, -0.0900, -0.1315,  0.1534,  0.2029]])\n"
     ]
    }
   ],
   "source": [
    "for i in range(1,len(LeNet_model.conv1.weight.data)):\n",
    "    print(LeNet_model.conv1.weight.data[i][0])\n",
    "    first_layer+=np.array(LeNet_model.conv1.weight.data[i][0])"
   ]
  },
  {
   "cell_type": "code",
   "execution_count": 105,
   "id": "0f7187dc",
   "metadata": {},
   "outputs": [
    {
     "data": {
      "text/plain": [
       "array([[ 0.05152261, -0.04339923, -0.38876575,  0.27196187,  0.2660597 ],\n",
       "       [ 0.51656675, -0.38586515, -1.231637  , -0.60583115,  0.6473638 ],\n",
       "       [-0.5647317 , -0.2891454 , -0.20799881, -0.09522951,  0.34197956],\n",
       "       [-0.21465439,  0.2241104 ,  0.7822756 ,  0.99256504,  0.01866344],\n",
       "       [ 0.10022844,  0.81259394,  0.61678267,  0.8066884 ,  0.13903664]],\n",
       "      dtype=float32)"
      ]
     },
     "execution_count": 105,
     "metadata": {},
     "output_type": "execute_result"
    }
   ],
   "source": [
    "first_layer"
   ]
  },
  {
   "cell_type": "markdown",
   "id": "0f2a6934",
   "metadata": {},
   "source": [
    "plt.imshow(first_layer.T@first_layer,cmap=\"gray\")"
   ]
  },
  {
   "cell_type": "code",
   "execution_count": 110,
   "id": "b03c2c1c",
   "metadata": {},
   "outputs": [
    {
     "data": {
      "text/plain": [
       "<matplotlib.image.AxesImage at 0x178b77460>"
      ]
     },
     "execution_count": 110,
     "metadata": {},
     "output_type": "execute_result"
    },
    {
     "data": {
      "image/png": "[encoded data removed]",
      "text/plain": [
       "<Figure size 640x480 with 1 Axes>"
      ]
     },
     "metadata": {},
     "output_type": "display_data"
    }
   ],
   "source": [
    "plt.imshow(avg_first_later.T@avg_first_later,cmap=\"gray\")"
   ]
  },
  {
   "cell_type": "code",
   "execution_count": null,
   "id": "012147bd",
   "metadata": {},
   "outputs": [],
   "source": []
  },
  {
   "cell_type": "markdown",
   "id": "df8d5607",
   "metadata": {},
   "source": [
    "## Plot for each filter"
   ]
  },
  {
   "cell_type": "code",
   "execution_count": 119,
   "id": "97e9f8f2",
   "metadata": {},
   "outputs": [
    {
     "data": {
      "image/png": "[encoded data removed]",
      "text/plain": [
       "<Figure size 640x480 with 1 Axes>"
      ]
     },
     "metadata": {},
     "output_type": "display_data"
    },
    {
     "data": {
      "image/png": "[encoded data removed]",
      "text/plain": [
       "<Figure size 640x480 with 1 Axes>"
      ]
     },
     "metadata": {},
     "output_type": "display_data"
    },
    {
     "data": {
      "image/png": "[encoded data removed]",
      "text/plain": [
       "<Figure size 640x480 with 1 Axes>"
      ]
     },
     "metadata": {},
     "output_type": "display_data"
    },
    {
     "data": {
      "image/png": "[encoded data removed]",
      "text/plain": [
       "<Figure size 640x480 with 1 Axes>"
      ]
     },
     "metadata": {},
     "output_type": "display_data"
    },
    {
     "data": {
      "image/png": "[encoded data removed]",
      "text/plain": [
       "<Figure size 640x480 with 1 Axes>"
      ]
     },
     "metadata": {},
     "output_type": "display_data"
    },
    {
     "data": {
      "image/png": "[encoded data removed]",
      "text/plain": [
       "<Figure size 640x480 with 1 Axes>"
      ]
     },
     "metadata": {},
     "output_type": "display_data"
    }
   ],
   "source": [
    "for i in LeNet_model.conv1.weight.data:\n",
    "    w=i[0]\n",
    "    plt.imshow(w.T@w,cmap=\"gray\")\n",
    "    plt.show()"
   ]
  },
  {
   "cell_type": "code",
   "execution_count": null,
   "id": "19a2157a",
   "metadata": {},
   "outputs": [],
   "source": []
  }
 ],
 "metadata": {
  "kernelspec": {
   "display_name": "Python 3 (ipykernel)",
   "language": "python",
   "name": "python3"
  },
  "language_info": {
   "codemirror_mode": {
    "name": "ipython",
    "version": 3
   },
   "file_extension": ".py",
   "mimetype": "text/x-python",
   "name": "python",
   "nbconvert_exporter": "python",
   "pygments_lexer": "ipython3",
   "version": "3.8.18"
  }
 },
 "nbformat": 4,
 "nbformat_minor": 5
}
