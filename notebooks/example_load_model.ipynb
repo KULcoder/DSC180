{
 "cells": [
  {
   "cell_type": "code",
   "execution_count": 1,
   "id": "8c84b7c4-e84f-4519-8a20-51d9f29012b9",
   "metadata": {},
   "outputs": [],
   "source": [
    "import os\n",
    "import json\n",
    "import sys\n",
    "\n",
    "# Append project to path\n",
    "root_dir = os.path.join(os.getcwd(), \"..\")\n",
    "sys.path.append(root_dir)"
   ]
  },
  {
   "cell_type": "code",
   "execution_count": 5,
   "id": "975008b3-2793-446e-88e7-ca46352bcf99",
   "metadata": {},
   "outputs": [],
   "source": [
    "# read config\n",
    "path = \"../config/example_config.json\"\n",
    "with open(path) as json_file:\n",
    "    config = json.load(json_file)\n",
    "config['data']['path'] = \"../data\"\n",
    "config['model']['save_path'] = \"../models/resnet18.pth\""
   ]
  },
  {
   "cell_type": "code",
   "execution_count": 6,
   "id": "1c9d291d-965a-48cc-9580-28513e43a24b",
   "metadata": {},
   "outputs": [
    {
     "name": "stdout",
     "output_type": "stream",
     "text": [
      "Creating model...\n",
      "Model resnet18 created\n"
     ]
    }
   ],
   "source": [
    "from src.model.get_model import get_model\n",
    "model = get_model(config)"
   ]
  },
  {
   "cell_type": "code",
   "execution_count": 7,
   "id": "e4d6386e-c3e4-421e-a05f-9a5933c913f0",
   "metadata": {},
   "outputs": [
    {
     "name": "stdout",
     "output_type": "stream",
     "text": [
      "Model read successfully from ../models/resnet18.pth\n"
     ]
    }
   ],
   "source": [
    "from src.model.model_files import read_model\n",
    "read_model(model, config)"
   ]
  }
 ],
 "metadata": {
  "kernelspec": {
   "display_name": "Python 3 (ipykernel)",
   "language": "python",
   "name": "python3"
  },
  "language_info": {
   "codemirror_mode": {
    "name": "ipython",
    "version": 3
   },
   "file_extension": ".py",
   "mimetype": "text/x-python",
   "name": "python",
   "nbconvert_exporter": "python",
   "pygments_lexer": "ipython3",
   "version": "3.9.16"
  }
 },
 "nbformat": 4,
 "nbformat_minor": 5
}
