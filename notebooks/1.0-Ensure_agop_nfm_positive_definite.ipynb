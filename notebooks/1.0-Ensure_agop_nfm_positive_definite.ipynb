{
 "cells": [
  {
   "cell_type": "code",
   "execution_count": 1,
   "id": "f83906db-1a22-45fb-9e2f-ddcb029a8561",
   "metadata": {},
   "outputs": [],
   "source": [
    "import os\n",
    "import json\n",
    "import sys\n",
    "\n",
    "root_dir = os.path.join(os.getcwd(), \"..\")\n",
    "sys.path.append(root_dir)"
   ]
  },
  {
   "cell_type": "code",
   "execution_count": 2,
   "id": "66fbf2b7-9104-41ed-bfc6-d357eb32dd67",
   "metadata": {},
   "outputs": [],
   "source": [
    "import torch.nn.init as init\n",
    "import torch.nn as nn\n",
    "import torch\n",
    "from torch.distributions import MultivariateNormal\n",
    "\n",
    "from scipy.linalg import eigvals\n",
    "import numpy as np"
   ]
  },
  {
   "cell_type": "code",
   "execution_count": 3,
   "id": "ed05bfbf-905a-4e20-9b06-c4eaeee47d9a",
   "metadata": {},
   "outputs": [],
   "source": [
    "def transform_matrix(A):\n",
    "    # Making positive definite\n",
    "    eigenvalues = eigvals(A)\n",
    "    min_eigenvalue = min(eigenvalues)\n",
    "    if min_eigenvalue <= 0 + 1e-4:\n",
    "        A = A + (abs(min_eigenvalue) + 1e-4)*np.eye(A.shape[0])\n",
    "\n",
    "    # Normalizing by dividing by the trace\n",
    "    trace_A = np.trace(A)\n",
    "    if trace_A > 0:\n",
    "        A = A / trace_A\n",
    "\n",
    "    return A "
   ]
  },
  {
   "cell_type": "code",
   "execution_count": 4,
   "id": "8a923bbe-95b9-480d-a508-56662a3cd7a1",
   "metadata": {},
   "outputs": [],
   "source": [
    "def nfm_init(config, model):\n",
    "    \"\"\"\n",
    "    Initialize the weight of convolution layers with nfm as covariance matrix.\n",
    "    ONLY FOR VGG11\n",
    "    \"\"\"\n",
    "    conv_layer_index = 0\n",
    "    for name, module in model.features.named_children():\n",
    "        if isinstance(module, nn.Conv2d):\n",
    "            # load the nfm\n",
    "            nfm_path = os.path.join(config['model']['nfm_path'], f\"layer_{conv_layer_index}.csv\")\n",
    "            nfm = np.loadtxt(nfm_path, delimiter=',')\n",
    "            nfm = transform_matrix(nfm)\n",
    "            nfm = torch.from_numpy(nfm).float()\n",
    "            init_conv_with_cov(module, nfm)\n",
    "            conv_layer_index += 1\n",
    "\n",
    "    return model"
   ]
  },
  {
   "cell_type": "code",
   "execution_count": 5,
   "id": "de72f190-a4d1-4787-849c-8d3e48464df8",
   "metadata": {},
   "outputs": [
    {
     "name": "stdout",
     "output_type": "stream",
     "text": [
      "0\n",
      "1\n"
     ]
    },
    {
     "ename": "ValueError",
     "evalue": "Expected parameter covariance_matrix (Tensor of shape (576, 576)) of distribution MultivariateNormal(loc: torch.Size([576]), covariance_matrix: torch.Size([576, 576])) to satisfy the constraint PositiveDefinite(), but found invalid values:\ntensor([[ 1.8021e-03, -5.4840e-05,  1.4849e-05,  ..., -7.8554e-05,\n         -1.7664e-05,  1.5991e-05],\n        [-5.4630e-05,  1.9953e-03,  3.3843e-05,  ..., -4.0491e-05,\n          1.2779e-05,  2.2799e-05],\n        [ 1.4779e-05,  3.4274e-05,  1.6210e-03,  ...,  7.0209e-06,\n          1.5944e-05,  2.5231e-05],\n        ...,\n        [-7.8527e-05, -4.0540e-05,  7.0689e-06,  ...,  1.4906e-03,\n          1.2985e-04,  5.0007e-05],\n        [-1.7680e-05,  1.2842e-05,  1.5958e-05,  ...,  1.2987e-04,\n          1.4837e-03,  1.7284e-04],\n        [ 1.5992e-05,  2.2764e-05,  2.5207e-05,  ...,  5.0000e-05,\n          1.7289e-04,  1.5295e-03]], dtype=torch.float64)",
     "output_type": "error",
     "traceback": [
      "\u001b[0;31m---------------------------------------------------------------------------\u001b[0m",
      "\u001b[0;31mValueError\u001b[0m                                Traceback (most recent call last)",
      "Cell \u001b[0;32mIn[5], line 16\u001b[0m\n\u001b[1;32m     14\u001b[0m nfm_new \u001b[38;5;241m=\u001b[39m nfm_new \u001b[38;5;241m/\u001b[39m np\u001b[38;5;241m.\u001b[39mtrace(nfm_new)\n\u001b[1;32m     15\u001b[0m \u001b[38;5;28mmin\u001b[39m(eigvals(nfm_new))\n\u001b[0;32m---> 16\u001b[0m m \u001b[38;5;241m=\u001b[39m \u001b[43mMultivariateNormal\u001b[49m\u001b[43m(\u001b[49m\u001b[43mmeans\u001b[49m\u001b[43m,\u001b[49m\u001b[43m \u001b[49m\u001b[43mnfm_new\u001b[49m\u001b[43m)\u001b[49m\n",
      "File \u001b[0;32m~/miniconda3/lib/python3.11/site-packages/torch/distributions/multivariate_normal.py:177\u001b[0m, in \u001b[0;36mMultivariateNormal.__init__\u001b[0;34m(self, loc, covariance_matrix, precision_matrix, scale_tril, validate_args)\u001b[0m\n\u001b[1;32m    174\u001b[0m \u001b[38;5;28mself\u001b[39m\u001b[38;5;241m.\u001b[39mloc \u001b[38;5;241m=\u001b[39m loc\u001b[38;5;241m.\u001b[39mexpand(batch_shape \u001b[38;5;241m+\u001b[39m (\u001b[38;5;241m-\u001b[39m\u001b[38;5;241m1\u001b[39m,))\n\u001b[1;32m    176\u001b[0m event_shape \u001b[38;5;241m=\u001b[39m \u001b[38;5;28mself\u001b[39m\u001b[38;5;241m.\u001b[39mloc\u001b[38;5;241m.\u001b[39mshape[\u001b[38;5;241m-\u001b[39m\u001b[38;5;241m1\u001b[39m:]\n\u001b[0;32m--> 177\u001b[0m \u001b[38;5;28;43msuper\u001b[39;49m\u001b[43m(\u001b[49m\u001b[43m)\u001b[49m\u001b[38;5;241;43m.\u001b[39;49m\u001b[38;5;21;43m__init__\u001b[39;49m\u001b[43m(\u001b[49m\u001b[43mbatch_shape\u001b[49m\u001b[43m,\u001b[49m\u001b[43m \u001b[49m\u001b[43mevent_shape\u001b[49m\u001b[43m,\u001b[49m\u001b[43m \u001b[49m\u001b[43mvalidate_args\u001b[49m\u001b[38;5;241;43m=\u001b[39;49m\u001b[43mvalidate_args\u001b[49m\u001b[43m)\u001b[49m\n\u001b[1;32m    179\u001b[0m \u001b[38;5;28;01mif\u001b[39;00m scale_tril \u001b[38;5;129;01mis\u001b[39;00m \u001b[38;5;129;01mnot\u001b[39;00m \u001b[38;5;28;01mNone\u001b[39;00m:\n\u001b[1;32m    180\u001b[0m     \u001b[38;5;28mself\u001b[39m\u001b[38;5;241m.\u001b[39m_unbroadcasted_scale_tril \u001b[38;5;241m=\u001b[39m scale_tril\n",
      "File \u001b[0;32m~/miniconda3/lib/python3.11/site-packages/torch/distributions/distribution.py:68\u001b[0m, in \u001b[0;36mDistribution.__init__\u001b[0;34m(self, batch_shape, event_shape, validate_args)\u001b[0m\n\u001b[1;32m     66\u001b[0m         valid \u001b[38;5;241m=\u001b[39m constraint\u001b[38;5;241m.\u001b[39mcheck(value)\n\u001b[1;32m     67\u001b[0m         \u001b[38;5;28;01mif\u001b[39;00m \u001b[38;5;129;01mnot\u001b[39;00m valid\u001b[38;5;241m.\u001b[39mall():\n\u001b[0;32m---> 68\u001b[0m             \u001b[38;5;28;01mraise\u001b[39;00m \u001b[38;5;167;01mValueError\u001b[39;00m(\n\u001b[1;32m     69\u001b[0m                 \u001b[38;5;124mf\u001b[39m\u001b[38;5;124m\"\u001b[39m\u001b[38;5;124mExpected parameter \u001b[39m\u001b[38;5;132;01m{\u001b[39;00mparam\u001b[38;5;132;01m}\u001b[39;00m\u001b[38;5;124m \u001b[39m\u001b[38;5;124m\"\u001b[39m\n\u001b[1;32m     70\u001b[0m                 \u001b[38;5;124mf\u001b[39m\u001b[38;5;124m\"\u001b[39m\u001b[38;5;124m(\u001b[39m\u001b[38;5;132;01m{\u001b[39;00m\u001b[38;5;28mtype\u001b[39m(value)\u001b[38;5;241m.\u001b[39m\u001b[38;5;18m__name__\u001b[39m\u001b[38;5;132;01m}\u001b[39;00m\u001b[38;5;124m of shape \u001b[39m\u001b[38;5;132;01m{\u001b[39;00m\u001b[38;5;28mtuple\u001b[39m(value\u001b[38;5;241m.\u001b[39mshape)\u001b[38;5;132;01m}\u001b[39;00m\u001b[38;5;124m) \u001b[39m\u001b[38;5;124m\"\u001b[39m\n\u001b[1;32m     71\u001b[0m                 \u001b[38;5;124mf\u001b[39m\u001b[38;5;124m\"\u001b[39m\u001b[38;5;124mof distribution \u001b[39m\u001b[38;5;132;01m{\u001b[39;00m\u001b[38;5;28mrepr\u001b[39m(\u001b[38;5;28mself\u001b[39m)\u001b[38;5;132;01m}\u001b[39;00m\u001b[38;5;124m \u001b[39m\u001b[38;5;124m\"\u001b[39m\n\u001b[1;32m     72\u001b[0m                 \u001b[38;5;124mf\u001b[39m\u001b[38;5;124m\"\u001b[39m\u001b[38;5;124mto satisfy the constraint \u001b[39m\u001b[38;5;132;01m{\u001b[39;00m\u001b[38;5;28mrepr\u001b[39m(constraint)\u001b[38;5;132;01m}\u001b[39;00m\u001b[38;5;124m, \u001b[39m\u001b[38;5;124m\"\u001b[39m\n\u001b[1;32m     73\u001b[0m                 \u001b[38;5;124mf\u001b[39m\u001b[38;5;124m\"\u001b[39m\u001b[38;5;124mbut found invalid values:\u001b[39m\u001b[38;5;130;01m\\n\u001b[39;00m\u001b[38;5;132;01m{\u001b[39;00mvalue\u001b[38;5;132;01m}\u001b[39;00m\u001b[38;5;124m\"\u001b[39m\n\u001b[1;32m     74\u001b[0m             )\n\u001b[1;32m     75\u001b[0m \u001b[38;5;28msuper\u001b[39m()\u001b[38;5;241m.\u001b[39m\u001b[38;5;21m__init__\u001b[39m()\n",
      "\u001b[0;31mValueError\u001b[0m: Expected parameter covariance_matrix (Tensor of shape (576, 576)) of distribution MultivariateNormal(loc: torch.Size([576]), covariance_matrix: torch.Size([576, 576])) to satisfy the constraint PositiveDefinite(), but found invalid values:\ntensor([[ 1.8021e-03, -5.4840e-05,  1.4849e-05,  ..., -7.8554e-05,\n         -1.7664e-05,  1.5991e-05],\n        [-5.4630e-05,  1.9953e-03,  3.3843e-05,  ..., -4.0491e-05,\n          1.2779e-05,  2.2799e-05],\n        [ 1.4779e-05,  3.4274e-05,  1.6210e-03,  ...,  7.0209e-06,\n          1.5944e-05,  2.5231e-05],\n        ...,\n        [-7.8527e-05, -4.0540e-05,  7.0689e-06,  ...,  1.4906e-03,\n          1.2985e-04,  5.0007e-05],\n        [-1.7680e-05,  1.2842e-05,  1.5958e-05,  ...,  1.2987e-04,\n          1.4837e-03,  1.7284e-04],\n        [ 1.5992e-05,  2.2764e-05,  2.5207e-05,  ...,  5.0000e-05,\n          1.7289e-04,  1.5295e-03]], dtype=torch.float64)"
     ]
    }
   ],
   "source": [
    "# load in the nfm\n",
    "for i in range(7):\n",
    "    print(i)\n",
    "    nfm_path = os.path.join('/Users/keyu/Documents/GitHub/DSC180/nfm', f\"layer_{i}.csv\")\n",
    "    nfm = np.loadtxt(nfm_path, delimiter=',')\n",
    "    \n",
    "    # test if we can create a multivariate gaus distribution with this nfm\n",
    "    means = torch.zeros(nfm.shape[0])\n",
    "    nfm = torch.from_numpy(nfm).float()\n",
    "    # m = MultivariateNormal(means, nfm)\n",
    "    \n",
    "    min_eigenvalue = min(eigvals(nfm))\n",
    "    nfm_new = nfm + (abs(min_eigenvalue) + 1e-4)*np.eye(nfm.shape[0])\n",
    "    nfm_new = nfm_new / np.trace(nfm_new)\n",
    "    min(eigvals(nfm_new))\n",
    "    m = MultivariateNormal(means, nfm_new)"
   ]
  },
  {
   "cell_type": "code",
   "execution_count": 9,
   "id": "c271a0fd-a95d-490a-b021-071e23d65fcc",
   "metadata": {},
   "outputs": [
    {
     "name": "stdout",
     "output_type": "stream",
     "text": [
      "(-0.42696163+0j)\n",
      "(2.8605191544833842e-05+0j)\n"
     ]
    },
    {
     "ename": "ValueError",
     "evalue": "Expected parameter covariance_matrix (Tensor of shape (576, 576)) of distribution MultivariateNormal(loc: torch.Size([576]), covariance_matrix: torch.Size([576, 576])) to satisfy the constraint PositiveDefinite(), but found invalid values:\ntensor([[ 1.8011e-03, -5.3946e-05,  1.4607e-05,  ..., -7.7272e-05,\n         -1.7376e-05,  1.5731e-05],\n        [-5.3738e-05,  1.9910e-03,  3.3291e-05,  ..., -3.9830e-05,\n          1.2571e-05,  2.2427e-05],\n        [ 1.4538e-05,  3.3715e-05,  1.6228e-03,  ...,  6.9064e-06,\n          1.5684e-05,  2.4820e-05],\n        ...,\n        [-7.7246e-05, -3.9879e-05,  6.9536e-06,  ...,  1.4946e-03,\n          1.2774e-04,  4.9191e-05],\n        [-1.7392e-05,  1.2632e-05,  1.5698e-05,  ...,  1.2775e-04,\n          1.4878e-03,  1.7002e-04],\n        [ 1.5731e-05,  2.2392e-05,  2.4795e-05,  ...,  4.9185e-05,\n          1.7006e-04,  1.5329e-03]], dtype=torch.float64)",
     "output_type": "error",
     "traceback": [
      "\u001b[0;31m---------------------------------------------------------------------------\u001b[0m",
      "\u001b[0;31mValueError\u001b[0m                                Traceback (most recent call last)",
      "Cell \u001b[0;32mIn[9], line 15\u001b[0m\n\u001b[1;32m     13\u001b[0m nfm_new \u001b[38;5;241m=\u001b[39m nfm_new \u001b[38;5;241m/\u001b[39m np\u001b[38;5;241m.\u001b[39mtrace(nfm_new)\n\u001b[1;32m     14\u001b[0m \u001b[38;5;28mprint\u001b[39m(\u001b[38;5;28mmin\u001b[39m(eigvals(nfm_new)))\n\u001b[0;32m---> 15\u001b[0m m \u001b[38;5;241m=\u001b[39m \u001b[43mMultivariateNormal\u001b[49m\u001b[43m(\u001b[49m\u001b[43mmeans\u001b[49m\u001b[43m,\u001b[49m\u001b[43m \u001b[49m\u001b[43mnfm_new\u001b[49m\u001b[43m)\u001b[49m\n",
      "File \u001b[0;32m~/miniconda3/lib/python3.11/site-packages/torch/distributions/multivariate_normal.py:177\u001b[0m, in \u001b[0;36mMultivariateNormal.__init__\u001b[0;34m(self, loc, covariance_matrix, precision_matrix, scale_tril, validate_args)\u001b[0m\n\u001b[1;32m    174\u001b[0m \u001b[38;5;28mself\u001b[39m\u001b[38;5;241m.\u001b[39mloc \u001b[38;5;241m=\u001b[39m loc\u001b[38;5;241m.\u001b[39mexpand(batch_shape \u001b[38;5;241m+\u001b[39m (\u001b[38;5;241m-\u001b[39m\u001b[38;5;241m1\u001b[39m,))\n\u001b[1;32m    176\u001b[0m event_shape \u001b[38;5;241m=\u001b[39m \u001b[38;5;28mself\u001b[39m\u001b[38;5;241m.\u001b[39mloc\u001b[38;5;241m.\u001b[39mshape[\u001b[38;5;241m-\u001b[39m\u001b[38;5;241m1\u001b[39m:]\n\u001b[0;32m--> 177\u001b[0m \u001b[38;5;28;43msuper\u001b[39;49m\u001b[43m(\u001b[49m\u001b[43m)\u001b[49m\u001b[38;5;241;43m.\u001b[39;49m\u001b[38;5;21;43m__init__\u001b[39;49m\u001b[43m(\u001b[49m\u001b[43mbatch_shape\u001b[49m\u001b[43m,\u001b[49m\u001b[43m \u001b[49m\u001b[43mevent_shape\u001b[49m\u001b[43m,\u001b[49m\u001b[43m \u001b[49m\u001b[43mvalidate_args\u001b[49m\u001b[38;5;241;43m=\u001b[39;49m\u001b[43mvalidate_args\u001b[49m\u001b[43m)\u001b[49m\n\u001b[1;32m    179\u001b[0m \u001b[38;5;28;01mif\u001b[39;00m scale_tril \u001b[38;5;129;01mis\u001b[39;00m \u001b[38;5;129;01mnot\u001b[39;00m \u001b[38;5;28;01mNone\u001b[39;00m:\n\u001b[1;32m    180\u001b[0m     \u001b[38;5;28mself\u001b[39m\u001b[38;5;241m.\u001b[39m_unbroadcasted_scale_tril \u001b[38;5;241m=\u001b[39m scale_tril\n",
      "File \u001b[0;32m~/miniconda3/lib/python3.11/site-packages/torch/distributions/distribution.py:68\u001b[0m, in \u001b[0;36mDistribution.__init__\u001b[0;34m(self, batch_shape, event_shape, validate_args)\u001b[0m\n\u001b[1;32m     66\u001b[0m         valid \u001b[38;5;241m=\u001b[39m constraint\u001b[38;5;241m.\u001b[39mcheck(value)\n\u001b[1;32m     67\u001b[0m         \u001b[38;5;28;01mif\u001b[39;00m \u001b[38;5;129;01mnot\u001b[39;00m valid\u001b[38;5;241m.\u001b[39mall():\n\u001b[0;32m---> 68\u001b[0m             \u001b[38;5;28;01mraise\u001b[39;00m \u001b[38;5;167;01mValueError\u001b[39;00m(\n\u001b[1;32m     69\u001b[0m                 \u001b[38;5;124mf\u001b[39m\u001b[38;5;124m\"\u001b[39m\u001b[38;5;124mExpected parameter \u001b[39m\u001b[38;5;132;01m{\u001b[39;00mparam\u001b[38;5;132;01m}\u001b[39;00m\u001b[38;5;124m \u001b[39m\u001b[38;5;124m\"\u001b[39m\n\u001b[1;32m     70\u001b[0m                 \u001b[38;5;124mf\u001b[39m\u001b[38;5;124m\"\u001b[39m\u001b[38;5;124m(\u001b[39m\u001b[38;5;132;01m{\u001b[39;00m\u001b[38;5;28mtype\u001b[39m(value)\u001b[38;5;241m.\u001b[39m\u001b[38;5;18m__name__\u001b[39m\u001b[38;5;132;01m}\u001b[39;00m\u001b[38;5;124m of shape \u001b[39m\u001b[38;5;132;01m{\u001b[39;00m\u001b[38;5;28mtuple\u001b[39m(value\u001b[38;5;241m.\u001b[39mshape)\u001b[38;5;132;01m}\u001b[39;00m\u001b[38;5;124m) \u001b[39m\u001b[38;5;124m\"\u001b[39m\n\u001b[1;32m     71\u001b[0m                 \u001b[38;5;124mf\u001b[39m\u001b[38;5;124m\"\u001b[39m\u001b[38;5;124mof distribution \u001b[39m\u001b[38;5;132;01m{\u001b[39;00m\u001b[38;5;28mrepr\u001b[39m(\u001b[38;5;28mself\u001b[39m)\u001b[38;5;132;01m}\u001b[39;00m\u001b[38;5;124m \u001b[39m\u001b[38;5;124m\"\u001b[39m\n\u001b[1;32m     72\u001b[0m                 \u001b[38;5;124mf\u001b[39m\u001b[38;5;124m\"\u001b[39m\u001b[38;5;124mto satisfy the constraint \u001b[39m\u001b[38;5;132;01m{\u001b[39;00m\u001b[38;5;28mrepr\u001b[39m(constraint)\u001b[38;5;132;01m}\u001b[39;00m\u001b[38;5;124m, \u001b[39m\u001b[38;5;124m\"\u001b[39m\n\u001b[1;32m     73\u001b[0m                 \u001b[38;5;124mf\u001b[39m\u001b[38;5;124m\"\u001b[39m\u001b[38;5;124mbut found invalid values:\u001b[39m\u001b[38;5;130;01m\\n\u001b[39;00m\u001b[38;5;132;01m{\u001b[39;00mvalue\u001b[38;5;132;01m}\u001b[39;00m\u001b[38;5;124m\"\u001b[39m\n\u001b[1;32m     74\u001b[0m             )\n\u001b[1;32m     75\u001b[0m \u001b[38;5;28msuper\u001b[39m()\u001b[38;5;241m.\u001b[39m\u001b[38;5;21m__init__\u001b[39m()\n",
      "\u001b[0;31mValueError\u001b[0m: Expected parameter covariance_matrix (Tensor of shape (576, 576)) of distribution MultivariateNormal(loc: torch.Size([576]), covariance_matrix: torch.Size([576, 576])) to satisfy the constraint PositiveDefinite(), but found invalid values:\ntensor([[ 1.8011e-03, -5.3946e-05,  1.4607e-05,  ..., -7.7272e-05,\n         -1.7376e-05,  1.5731e-05],\n        [-5.3738e-05,  1.9910e-03,  3.3291e-05,  ..., -3.9830e-05,\n          1.2571e-05,  2.2427e-05],\n        [ 1.4538e-05,  3.3715e-05,  1.6228e-03,  ...,  6.9064e-06,\n          1.5684e-05,  2.4820e-05],\n        ...,\n        [-7.7246e-05, -3.9879e-05,  6.9536e-06,  ...,  1.4946e-03,\n          1.2774e-04,  4.9191e-05],\n        [-1.7392e-05,  1.2632e-05,  1.5698e-05,  ...,  1.2775e-04,\n          1.4878e-03,  1.7002e-04],\n        [ 1.5731e-05,  2.2392e-05,  2.4795e-05,  ...,  4.9185e-05,\n          1.7006e-04,  1.5329e-03]], dtype=torch.float64)"
     ]
    }
   ],
   "source": [
    "nfm_path = os.path.join('/Users/keyu/Documents/GitHub/DSC180/nfm', f\"layer_{1}.csv\")\n",
    "nfm = np.loadtxt(nfm_path, delimiter=',')\n",
    "\n",
    "# test if we can create a multivariate gaus distribution with this nfm\n",
    "means = torch.zeros(nfm.shape[0])\n",
    "nfm = torch.from_numpy(nfm).float()\n",
    "# m = MultivariateNormal(means, nfm)\n",
    "\n",
    "min_eigenvalue = min(eigvals(nfm))\n",
    "print(min_eigenvalue)\n",
    "nfm_new = nfm + (abs(min_eigenvalue) + 1e-5)*np.eye(nfm.shape[0])\n",
    "\n",
    "nfm_new = nfm_new / np.trace(nfm_new)\n",
    "print(min(eigvals(nfm_new)))\n",
    "m = MultivariateNormal(means, nfm_new)"
   ]
  },
  {
   "cell_type": "code",
   "execution_count": 21,
   "id": "0185278a-46b2-4aab-8406-575f7177b7cd",
   "metadata": {},
   "outputs": [],
   "source": [
    "# Compute eigenvalues and eigenvectors\n",
    "eigenvalues, eigenvectors = np.linalg.eigh(nfm)\n",
    "\n",
    "# Modify eigenvalues to be positive\n",
    "positive_eigenvalues = np.abs(eigenvalues) + 1e-5  # Adding a small value to ensure positivity\n",
    "\n",
    "# Reconstruct the positive definite matrix\n",
    "nfm_positive_definite = eigenvectors @ np.diag(positive_eigenvalues) @ eigenvectors.T\n",
    "nfm_positive_definite = torch.from_numpy(nfm_positive_definite).float()"
   ]
  },
  {
   "cell_type": "code",
   "execution_count": 15,
   "id": "66508ba0-ea5c-460a-a3fd-4b76df2e743f",
   "metadata": {},
   "outputs": [],
   "source": [
    "nfm_new = nfm + (abs(min_eigenvalue) + 1e-5)*np.eye(nfm.shape[0])"
   ]
  },
  {
   "cell_type": "code",
   "execution_count": 16,
   "id": "9491446d-e05f-4844-bed2-ec7dc887833d",
   "metadata": {},
   "outputs": [
    {
     "data": {
      "text/plain": [
       "(9.457264069088346e-06+0j)"
      ]
     },
     "execution_count": 16,
     "metadata": {},
     "output_type": "execute_result"
    }
   ],
   "source": [
    "min(eigvals(nfm_new))"
   ]
  },
  {
   "cell_type": "code",
   "execution_count": 22,
   "id": "c255d83e-345e-4c8a-99d6-c160b99c437a",
   "metadata": {},
   "outputs": [
    {
     "data": {
      "text/plain": [
       "MultivariateNormal(loc: torch.Size([576]), covariance_matrix: torch.Size([576, 576]))"
      ]
     },
     "execution_count": 22,
     "metadata": {},
     "output_type": "execute_result"
    }
   ],
   "source": [
    "MultivariateNormal(means, nfm_positive_definite)"
   ]
  },
  {
   "cell_type": "code",
   "execution_count": 44,
   "id": "5fe990b3-57e9-46d9-a92a-75b6f686e5c4",
   "metadata": {},
   "outputs": [],
   "source": []
  },
  {
   "cell_type": "code",
   "execution_count": 45,
   "id": "aa4e9c77-6aeb-404e-b099-17e553699196",
   "metadata": {},
   "outputs": [
    {
     "data": {
      "text/plain": [
       "(2.0168894709188777e-09+0j)"
      ]
     },
     "execution_count": 45,
     "metadata": {},
     "output_type": "execute_result"
    }
   ],
   "source": []
  },
  {
   "cell_type": "code",
   "execution_count": 46,
   "id": "e5f596cc-c1bf-48fe-aa21-484ab742242f",
   "metadata": {},
   "outputs": [],
   "source": []
  },
  {
   "cell_type": "code",
   "execution_count": null,
   "id": "0788f97e-eb03-4bb8-9a5e-cf497259e3d1",
   "metadata": {},
   "outputs": [],
   "source": []
  }
 ],
 "metadata": {
  "kernelspec": {
   "display_name": "Python 3 (ipykernel)",
   "language": "python",
   "name": "python3"
  },
  "language_info": {
   "codemirror_mode": {
    "name": "ipython",
    "version": 3
   },
   "file_extension": ".py",
   "mimetype": "text/x-python",
   "name": "python",
   "nbconvert_exporter": "python",
   "pygments_lexer": "ipython3",
   "version": "3.11.5"
  }
 },
 "nbformat": 4,
 "nbformat_minor": 5
}
