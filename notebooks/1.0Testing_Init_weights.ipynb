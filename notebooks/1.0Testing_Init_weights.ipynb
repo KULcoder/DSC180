{
 "cells": [
  {
   "cell_type": "code",
   "execution_count": 1,
   "id": "581f29fc-fea5-49e1-827b-c6cd263ca792",
   "metadata": {},
   "outputs": [],
   "source": [
    "import os\n",
    "import json\n",
    "import sys\n",
    "\n",
    "root_dir = os.path.join(os.getcwd(), \"..\")\n",
    "sys.path.append(root_dir)"
   ]
  },
  {
   "cell_type": "code",
   "execution_count": 2,
   "id": "90cd0acd-17d0-4a5f-bbad-dcfe2ec9fb72",
   "metadata": {},
   "outputs": [],
   "source": [
    "from src.model.get_model import get_model\n",
    "from src.model.init_weights import init_weights"
   ]
  },
  {
   "cell_type": "code",
   "execution_count": 3,
   "id": "c9a86466-84b5-46b9-bf7f-36e9351a5ace",
   "metadata": {},
   "outputs": [],
   "source": [
    "config_path = os.path.join(\"..\", \"config\", \"vgg11_config.json\")\n",
    "with open(config_path) as json_file:\n",
    "    config = json.load(json_file)"
   ]
  },
  {
   "cell_type": "code",
   "execution_count": 4,
   "id": "d6fc887a-c434-4641-8d2a-db53d984d8cd",
   "metadata": {},
   "outputs": [],
   "source": [
    "config['model']['init_method'] = 'agop'"
   ]
  },
  {
   "cell_type": "code",
   "execution_count": 5,
   "id": "f9f28d02-5a37-4ec2-9c87-5741560f7f38",
   "metadata": {},
   "outputs": [
    {
     "data": {
      "text/plain": [
       "{'experiment_name': 'test',\n",
       " 'data': {'path': '../data',\n",
       "  'dataset': 'cifar10',\n",
       "  'image_channels': 1,\n",
       "  'num_classes': 10,\n",
       "  'batch_size': 512,\n",
       "  'num_workers': 2,\n",
       "  'val_split': 0.2},\n",
       " 'model': {'type': 'vgg11',\n",
       "  'num_blocks': [2, 2, 2, 2],\n",
       "  'save_path': '../models/vgg11.pth',\n",
       "  'init_method': 'agop',\n",
       "  'init_mean': 0.0,\n",
       "  'init_std': 0.0001,\n",
       "  'agop_path': '../agop/',\n",
       "  'nfm_path': '../nfm/',\n",
       "  'pre_trained': False},\n",
       " 'optimizer': {'type': 'sgd',\n",
       "  'lr': 0.0001,\n",
       "  'momentum': 0.9,\n",
       "  'weight_decay': 0.0001,\n",
       "  'nestrov': False},\n",
       " 'training': {'epochs': 15, 'criterion': 'cross_entropy'},\n",
       " 'visualize': {'perform': False, 'save_path': './reports/figures/'}}"
      ]
     },
     "execution_count": 5,
     "metadata": {},
     "output_type": "execute_result"
    }
   ],
   "source": [
    "config"
   ]
  },
  {
   "cell_type": "code",
   "execution_count": 6,
   "id": "a8b517a6-41d0-4720-a95c-db3a5852d5fa",
   "metadata": {},
   "outputs": [
    {
     "name": "stdout",
     "output_type": "stream",
     "text": [
      "Creating model...\n",
      "Model vgg11 created\n"
     ]
    }
   ],
   "source": [
    "# try to get the model\n",
    "model = get_model(config)"
   ]
  },
  {
   "cell_type": "code",
   "execution_count": 7,
   "id": "4ec52d82-dc10-4b5c-af3c-c855c4b5d74b",
   "metadata": {},
   "outputs": [],
   "source": [
    "model = init_weights(config, model)"
   ]
  },
  {
   "cell_type": "code",
   "execution_count": 9,
   "id": "79d6adde-ea87-4e93-bc48-7ae348e2f4b0",
   "metadata": {},
   "outputs": [
    {
     "data": {
      "text/plain": [
       "tensor([[[[-0.3440, -0.4547,  0.3079],\n",
       "          [ 4.4855, -4.3146,  0.4074],\n",
       "          [-2.4442, -6.6949,  2.7183]],\n",
       "\n",
       "         [[ 3.0575,  0.4240, -3.9997],\n",
       "          [12.2889,  0.9602, -0.0137],\n",
       "          [ 4.3113, -0.7508,  5.1694]],\n",
       "\n",
       "         [[ 0.0696, -3.7509, -8.2133],\n",
       "          [ 7.6058, -3.9169, -6.2926],\n",
       "          [ 2.8361, -2.3530, -0.5438]]],\n",
       "\n",
       "\n",
       "        [[[-0.8952,  2.1698, -5.0758],\n",
       "          [-3.4346,  3.2179,  2.0231],\n",
       "          [ 3.0527,  2.0077,  1.9698]],\n",
       "\n",
       "         [[ 0.5736,  5.3117, -0.5236],\n",
       "          [-7.0219,  0.7359,  2.1477],\n",
       "          [-2.2992, -2.8120, -0.7393]],\n",
       "\n",
       "         [[ 2.0055,  5.2846,  1.2364],\n",
       "          [-4.6267,  1.2433,  1.8305],\n",
       "          [-1.9686, -4.6086, -1.6221]]],\n",
       "\n",
       "\n",
       "        [[[-1.8788, -0.7987, -0.4912],\n",
       "          [-2.2251,  1.6332,  1.0770],\n",
       "          [-1.1871,  2.5249,  0.7948]],\n",
       "\n",
       "         [[-7.7284, -2.6666, -0.1321],\n",
       "          [-4.3296,  3.1793,  5.2370],\n",
       "          [-2.0956,  5.3202,  5.3732]],\n",
       "\n",
       "         [[-6.9452, -3.1739, -0.4196],\n",
       "          [-2.6067,  1.8493,  3.4449],\n",
       "          [-1.0476,  4.1592,  4.9810]]],\n",
       "\n",
       "\n",
       "        ...,\n",
       "\n",
       "\n",
       "        [[[ 0.1354,  3.6784, -0.2565],\n",
       "          [-0.7642, -1.4335,  0.7012],\n",
       "          [ 1.1481, -2.2772,  0.6103]],\n",
       "\n",
       "         [[-4.0340,  2.0097,  1.0219],\n",
       "          [-5.7569, -2.8521,  2.0659],\n",
       "          [-1.6598, -1.7513,  3.8751]],\n",
       "\n",
       "         [[-3.4809,  0.7023,  1.1856],\n",
       "          [-2.6835, -0.7103,  3.5077],\n",
       "          [ 0.9016, -0.1932,  4.4903]]],\n",
       "\n",
       "\n",
       "        [[[-0.9461, -1.1537,  3.7022],\n",
       "          [ 3.0418, -3.1773, -0.3182],\n",
       "          [-0.0343, -1.2598, -0.9747]],\n",
       "\n",
       "         [[ 3.0368,  1.0844,  5.6027],\n",
       "          [ 4.6988, -3.6781, -1.5079],\n",
       "          [-1.0783, -4.6606, -5.5793]],\n",
       "\n",
       "         [[ 4.4300,  2.3682,  4.8399],\n",
       "          [ 5.4565, -2.3877, -1.9415],\n",
       "          [-0.2594, -3.4338, -5.8367]]],\n",
       "\n",
       "\n",
       "        [[[-0.4337,  0.0789,  3.5610],\n",
       "          [-2.1975,  1.6193,  4.9092],\n",
       "          [-2.9097, -5.5378, -0.8111]],\n",
       "\n",
       "         [[ 0.8541,  0.4036,  3.2038],\n",
       "          [-0.9252,  1.4969,  4.7799],\n",
       "          [-3.2394, -8.4008, -3.0423]],\n",
       "\n",
       "         [[ 0.1588, -0.7987,  0.3750],\n",
       "          [ 1.4124,  2.9472,  2.3111],\n",
       "          [ 2.1851, -2.7417, -0.9333]]]])"
      ]
     },
     "execution_count": 9,
     "metadata": {},
     "output_type": "execute_result"
    }
   ],
   "source": [
    "model.features[0].weight.data"
   ]
  },
  {
   "cell_type": "code",
   "execution_count": null,
   "id": "b2bbb714-fdb2-40ef-9fd3-1d661b25b64c",
   "metadata": {},
   "outputs": [],
   "source": []
  }
 ],
 "metadata": {
  "kernelspec": {
   "display_name": "Python 3 (ipykernel)",
   "language": "python",
   "name": "python3"
  },
  "language_info": {
   "codemirror_mode": {
    "name": "ipython",
    "version": 3
   },
   "file_extension": ".py",
   "mimetype": "text/x-python",
   "name": "python",
   "nbconvert_exporter": "python",
   "pygments_lexer": "ipython3",
   "version": "3.9.18"
  }
 },
 "nbformat": 4,
 "nbformat_minor": 5
}
