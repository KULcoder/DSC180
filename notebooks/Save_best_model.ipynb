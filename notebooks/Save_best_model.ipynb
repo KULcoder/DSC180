{
 "cells": [
  {
   "cell_type": "code",
   "execution_count": 3,
   "id": "4c8b0512-44ac-4d42-82e9-6dc3cdbc17a5",
   "metadata": {},
   "outputs": [],
   "source": [
    "import os\n",
    "import json\n",
    "import sys"
   ]
  },
  {
   "cell_type": "code",
   "execution_count": 4,
   "id": "19010455-822c-4f13-b284-5d036e60a01a",
   "metadata": {},
   "outputs": [],
   "source": [
    "root_dir = os.path.join(os.getcwd(), \"..\")\n",
    "sys.path.append(root_dir)"
   ]
  },
  {
   "cell_type": "code",
   "execution_count": 16,
   "id": "29a8d059-02c9-4a6c-9c6a-8230f585b888",
   "metadata": {},
   "outputs": [],
   "source": [
    "path = \"../config/example_config.json\"\n",
    "with open(path) as json_file:\n",
    "    config = json.load(json_file)\n",
    "config['data']['path'] = \"../data\"\n",
    "config['training']['epochs'] = 40"
   ]
  },
  {
   "cell_type": "code",
   "execution_count": 6,
   "id": "8c3baa22-f206-4eba-b854-d8429aeb7806",
   "metadata": {},
   "outputs": [
    {
     "name": "stdout",
     "output_type": "stream",
     "text": [
      "Creating dataloaders...\n",
      "Dataloaders created\n"
     ]
    }
   ],
   "source": [
    "from src.data.get_dataloader import get_dataloaders\n",
    "train_dataloader, validation_dataloader, test_dataloader = get_dataloaders(config)"
   ]
  },
  {
   "cell_type": "code",
   "execution_count": 7,
   "id": "7a416b7b-405f-4162-b952-0fbec20977f9",
   "metadata": {},
   "outputs": [
    {
     "name": "stdout",
     "output_type": "stream",
     "text": [
      "Creating model...\n",
      "Model resnet18 created\n"
     ]
    }
   ],
   "source": [
    "from src.model.get_model import get_model\n",
    "model = get_model(config)"
   ]
  },
  {
   "cell_type": "code",
   "execution_count": 8,
   "id": "43d550cb-72b9-48aa-a0b5-d836f23c8d27",
   "metadata": {},
   "outputs": [
    {
     "name": "stdout",
     "output_type": "stream",
     "text": [
      "Training model...\n",
      "Using device cuda\n"
     ]
    },
    {
     "name": "stderr",
     "output_type": "stream",
     "text": [
      "Train (loss=0.055, acc=98.785): 100%|███████████████████████████████| 40/40 [13:47<00:00, 20.69s/it]\n"
     ]
    }
   ],
   "source": [
    "from src.model.train_model import train_model\n",
    "trained_model, training_losses, training_accuracies, validation_losses, validation_accuracies =\\\n",
    "    train_model(model, train_dataloader, validation_dataloader, config)"
   ]
  },
  {
   "cell_type": "code",
   "execution_count": 9,
   "id": "f4c29679-acb7-47a9-b2b7-28c0c11ec753",
   "metadata": {},
   "outputs": [
    {
     "name": "stdout",
     "output_type": "stream",
     "text": [
      "Testing model...\n",
      "Using device cuda\n",
      "Testing loss: 0.0644, Testing accuracy: 98.3700\n"
     ]
    }
   ],
   "source": [
    "from src.model.test_model import test_model\n",
    "testing_loss, testing_acc = test_model(model, test_dataloader, config)"
   ]
  },
  {
   "cell_type": "code",
   "execution_count": 17,
   "id": "9f4f873f-cb65-4a24-92e6-4f78cce730a9",
   "metadata": {},
   "outputs": [
    {
     "name": "stdout",
     "output_type": "stream",
     "text": [
      "Saving model...\n",
      "Model saved\n"
     ]
    }
   ],
   "source": [
    "from src.model.model_files import save_model\n",
    "save_model(model, config)"
   ]
  }
 ],
 "metadata": {
  "kernelspec": {
   "display_name": "Python 3 (ipykernel)",
   "language": "python",
   "name": "python3"
  },
  "language_info": {
   "codemirror_mode": {
    "name": "ipython",
    "version": 3
   },
   "file_extension": ".py",
   "mimetype": "text/x-python",
   "name": "python",
   "nbconvert_exporter": "python",
   "pygments_lexer": "ipython3",
   "version": "3.9.18"
  }
 },
 "nbformat": 4,
 "nbformat_minor": 5
}
