{
 "cells": [
  {
   "cell_type": "markdown",
   "id": "dd4a2210-6d5b-44d7-8ebb-02c0dc9e11b3",
   "metadata": {},
   "source": [
    "# How to use the code in jupyter notebook?"
   ]
  },
  {
   "cell_type": "markdown",
   "id": "8cfd9803-63c9-4f4b-9c87-aaafe50e203a",
   "metadata": {},
   "source": [
    "###  Append the Root to PATH"
   ]
  },
  {
   "cell_type": "code",
   "execution_count": 1,
   "id": "fed5f551-bbde-411e-80db-d95e224af496",
   "metadata": {},
   "outputs": [],
   "source": [
    "import os\n",
    "import json\n",
    "import sys"
   ]
  },
  {
   "cell_type": "code",
   "execution_count": 2,
   "id": "d93208b2-7284-49aa-b98a-0563b9a78bcf",
   "metadata": {},
   "outputs": [],
   "source": [
    "root_dir = os.path.join(os.getcwd(), \"..\")\n",
    "sys.path.append(root_dir)"
   ]
  },
  {
   "cell_type": "markdown",
   "id": "3656f34d-c4da-45ac-accc-aa0d885967f7",
   "metadata": {},
   "source": [
    "## Import the Experiment File\n",
    "Experiment is the place where model initilization, training, testing, and analyzing happen, I will go through them"
   ]
  },
  {
   "cell_type": "code",
   "execution_count": 3,
   "id": "1f571243-d4fa-42dd-ab8f-eded13dbe3f2",
   "metadata": {},
   "outputs": [],
   "source": [
    "from src.experiment.Experiment import Experiment"
   ]
  },
  {
   "cell_type": "markdown",
   "id": "913bb69d-689d-48ce-8632-8f196dfd7226",
   "metadata": {},
   "source": [
    "## Create an experiment object\n",
    "Experiment object only needs config to set up.\n",
    "There are two ways of input config:\n",
    "1. Provide the config file path, the experiment object will find and init by that json file\n",
    "2. Load your own config as dictionary to experiment"
   ]
  },
  {
   "cell_type": "code",
   "execution_count": 4,
   "id": "561931e2-1a00-4ddc-9f81-e6dc640f3aa4",
   "metadata": {},
   "outputs": [
    {
     "name": "stdout",
     "output_type": "stream",
     "text": [
      "/home/keyulong/DSC180A-Project1/notebooks\n",
      "Using device cuda\n",
      "Creating dataloaders...\n",
      "Dataloaders created\n",
      "Creating model...\n",
      "Model resnet18 created\n"
     ]
    }
   ],
   "source": [
    "# 1. Create with file name\n",
    "\n",
    "# the file of config with respect to this nootbook\n",
    "config_path = os.path.join(\"..\", \"config\", \"example_config.json\")\n",
    "exp = Experiment(config = config_path)"
   ]
  },
  {
   "cell_type": "code",
   "execution_count": 5,
   "id": "a681b0bb-d3be-42ca-9c60-83025ae31e72",
   "metadata": {},
   "outputs": [
    {
     "name": "stdout",
     "output_type": "stream",
     "text": [
      "{'experiment_name': 'test', 'display_live': True, 'data': {'path': './data', 'dataset': 'mnist', 'image_channels': 1, 'num_classes': 10, 'batch_size': 512, 'num_workers': 2, 'val_split': 0.2}, 'model': {'type': 'resnet18', 'num_blocks': [2, 2, 2, 2], 'save_path': './models/resnet18.pth', 'init_method': 'normal', 'init_mean': 0.0, 'init_std': 0.0001}, 'optimizer': {'type': 'sgd', 'lr': 0.0001, 'momentum': 0.9, 'weight_decay': 0.0001, 'nestrov': False}, 'training': {'epochs': 15, 'criterion': 'cross_entropy'}, 'visualize': {'perform': False, 'save_path': './reports/figures/'}}\n",
      "/home/keyulong/DSC180A-Project1/notebooks\n",
      "Using device cuda\n",
      "Creating dataloaders...\n",
      "Dataloaders created\n",
      "Creating model...\n",
      "Model resnet18 created\n"
     ]
    }
   ],
   "source": [
    "# 2. Create with your own config dictionary\n",
    "with open(config_path) as json_file:\n",
    "    config = json.load(json_file)\n",
    "print(config)\n",
    "exp = Experiment(config = config)\n",
    "# in this way, you can modify the config directly in notebook"
   ]
  },
  {
   "cell_type": "markdown",
   "id": "b619de88-acc2-4fae-baec-40dec3a13d83",
   "metadata": {},
   "source": [
    "## Run the Experiment"
   ]
  },
  {
   "cell_type": "code",
   "execution_count": 6,
   "id": "db842aaa-c7af-4242-a040-5ccabf68ae8b",
   "metadata": {},
   "outputs": [
    {
     "name": "stdout",
     "output_type": "stream",
     "text": [
      "\t\trunning experiment\n"
     ]
    },
    {
     "name": "stderr",
     "output_type": "stream",
     "text": [
      "Train (loss=0.731, acc=79.196): 100%|█████████████████████████████████| 1/1 [00:20<00:00, 20.72s/it]\n"
     ]
    },
    {
     "data": {
      "text/plain": [
       "([0.731290985295113],\n",
       " [79.15625],\n",
       " [0.3013423594335715],\n",
       " [92.33333333333333],\n",
       " 0.2800221487879753,\n",
       " 93.03)"
      ]
     },
     "execution_count": 6,
     "metadata": {},
     "output_type": "execute_result"
    }
   ],
   "source": [
    "# you can specify how many epochs to run, by default it will execute the epoch num in config\n",
    "exp.run(run_epochs = 1)\n",
    "# this cmd will return a tuple in the following format\n",
    "#(train_losses, train_accs, val_losses, val_accs, test_loss, test_acc) "
   ]
  },
  {
   "cell_type": "markdown",
   "id": "dd0ee67d-243c-451d-addd-f76f597b47ec",
   "metadata": {},
   "source": [
    "## Interact with the Experiment Object\n",
    "Following listed some interactions"
   ]
  },
  {
   "cell_type": "markdown",
   "id": "a16d8193-f16c-4823-ab8d-0d196fafc9f3",
   "metadata": {},
   "source": [
    "### Model get, save, load"
   ]
  },
  {
   "cell_type": "code",
   "execution_count": 11,
   "id": "86a58be0-d3d2-41af-b22f-d083dd8b3cfa",
   "metadata": {},
   "outputs": [],
   "source": [
    "from src.model.model_files import save_model, load_model\n",
    "config['model']['save_path'] = \"../models/example.pth\""
   ]
  },
  {
   "cell_type": "code",
   "execution_count": 12,
   "id": "9f31c53f-0246-4e87-a584-9778e1ee7a15",
   "metadata": {},
   "outputs": [
    {
     "name": "stdout",
     "output_type": "stream",
     "text": [
      "Saving model...\n",
      "Model saved\n"
     ]
    }
   ],
   "source": [
    "# you can get model \n",
    "model = exp.get_model()\n",
    "# save it\n",
    "save_model(model, config)"
   ]
  },
  {
   "cell_type": "code",
   "execution_count": 13,
   "id": "ad3f8979-c528-45d4-9898-ed55e6d790b3",
   "metadata": {},
   "outputs": [
    {
     "name": "stdout",
     "output_type": "stream",
     "text": [
      "Model read successfully from ../models/example.pth\n"
     ]
    }
   ],
   "source": [
    "# you can save the model\n",
    "import copy\n",
    "# WARNING: make sure your model is of the same type\n",
    "# the model you want to load\n",
    "model_to_load = copy.deepcopy(model)\n",
    "load_model(model_to_load, config) # load local file to model_to_load\n",
    "# write this model into the experiment object\n",
    "exp.load_model(model_to_load)"
   ]
  },
  {
   "cell_type": "markdown",
   "id": "67b51a01-032d-48e3-8f6f-e6f3cdc1002b",
   "metadata": {},
   "source": [
    "### Training & Val Stats"
   ]
  },
  {
   "cell_type": "code",
   "execution_count": 15,
   "id": "9c3fba57-9b1f-430b-827c-76e50a7e0fe4",
   "metadata": {},
   "outputs": [
    {
     "data": {
      "text/plain": [
       "([0.731290985295113], [79.15625], [0.3013423594335715], [92.33333333333333])"
      ]
     },
     "execution_count": 15,
     "metadata": {},
     "output_type": "execute_result"
    }
   ],
   "source": [
    "# get the stats\n",
    "exp.get_stats()\n",
    "# return in such format: (train losses, train accs, val losses, val accs)"
   ]
  },
  {
   "cell_type": "code",
   "execution_count": 16,
   "id": "4b9c9244-d250-4553-a8b1-ff1d604d39a5",
   "metadata": {},
   "outputs": [
    {
     "data": {
      "text/plain": [
       "device(type='cuda')"
      ]
     },
     "execution_count": 16,
     "metadata": {},
     "output_type": "execute_result"
    }
   ],
   "source": [
    "# get the device exp is runing on\n",
    "exp.get_device()"
   ]
  },
  {
   "cell_type": "markdown",
   "id": "7dbb6e73-cdc9-4c9c-aa9e-e3aa5c01a26e",
   "metadata": {},
   "source": [
    "### Evaluate the model"
   ]
  },
  {
   "cell_type": "code",
   "execution_count": 18,
   "id": "83b5305f-0cad-4edf-a98d-086fa6faa3b9",
   "metadata": {},
   "outputs": [
    {
     "data": {
      "text/plain": [
       "(0.06441404232755303, 98.37)"
      ]
     },
     "execution_count": 18,
     "metadata": {},
     "output_type": "execute_result"
    }
   ],
   "source": [
    "exp.test_model()"
   ]
  },
  {
   "cell_type": "markdown",
   "id": "cb8572ef-f1ea-4f8d-8641-dde0b7ffe9d0",
   "metadata": {},
   "source": [
    "### Get experiment config"
   ]
  },
  {
   "cell_type": "code",
   "execution_count": 19,
   "id": "cfdadcb0-0984-4a73-b5fb-97ae371460a5",
   "metadata": {},
   "outputs": [
    {
     "data": {
      "text/plain": [
       "{'experiment_name': 'test',\n",
       " 'display_live': True,\n",
       " 'data': {'path': './data',\n",
       "  'dataset': 'mnist',\n",
       "  'image_channels': 1,\n",
       "  'num_classes': 10,\n",
       "  'batch_size': 512,\n",
       "  'num_workers': 2,\n",
       "  'val_split': 0.2},\n",
       " 'model': {'type': 'resnet18',\n",
       "  'num_blocks': [2, 2, 2, 2],\n",
       "  'save_path': '../models/example.pth',\n",
       "  'init_method': 'normal',\n",
       "  'init_mean': 0.0,\n",
       "  'init_std': 0.0001},\n",
       " 'optimizer': {'type': 'sgd',\n",
       "  'lr': 0.0001,\n",
       "  'momentum': 0.9,\n",
       "  'weight_decay': 0.0001,\n",
       "  'nestrov': False},\n",
       " 'training': {'epochs': 15, 'criterion': 'cross_entropy'},\n",
       " 'visualize': {'perform': False, 'save_path': './reports/figures/'}}"
      ]
     },
     "execution_count": 19,
     "metadata": {},
     "output_type": "execute_result"
    }
   ],
   "source": [
    "exp.get_config()"
   ]
  }
 ],
 "metadata": {
  "kernelspec": {
   "display_name": "Python 3 (ipykernel)",
   "language": "python",
   "name": "python3"
  },
  "language_info": {
   "codemirror_mode": {
    "name": "ipython",
    "version": 3
   },
   "file_extension": ".py",
   "mimetype": "text/x-python",
   "name": "python",
   "nbconvert_exporter": "python",
   "pygments_lexer": "ipython3",
   "version": "3.9.18"
  }
 },
 "nbformat": 4,
 "nbformat_minor": 5
}
